{
 "cells": [
  {
   "cell_type": "code",
   "execution_count": null,
   "metadata": {},
   "outputs": [
    {
     "name": "stdout",
     "output_type": "stream",
     "text": [
      "2\n",
      "2\n",
      "You are young\n",
      "You are young\n",
      "\n"
     ]
    }
   ],
   "source": [
    "#Error is age is not deined\n",
    "class Person:\n",
    "    age = 0\n",
    "    def __init__(self, initialAge):\n",
    "        if initialAge >= 0:\n",
    "            self.age = initialAge\n",
    "        else:\n",
    "            self.age = 0\n",
    "            print(\"Age is not valid.\")\n",
    "        \n",
    "    def amIOld(self):\n",
    "        if self.age < 13:\n",
    "            print(\"You are young\")\n",
    "        elif 13 <= self.age < 18:\n",
    "            print(\"You are a teenager\")\n",
    "        else:\n",
    "            print(\"You are old\")\n",
    "    \n",
    "    def yearPasses(self):\n",
    "        self.age += 1\n",
    "        \n",
    "t = int(input())\n",
    "\n",
    "for i in range(0, t):\n",
    "    age = int(input())\n",
    "    p = Person(age)\n",
    "    p.amIOld()\n",
    "\n",
    "    for j in range(0, 3):\n",
    "        p.yearPasses()\n",
    "    p.amIOld()\n",
    "    print(\"\")\n"
   ]
  },
  {
   "cell_type": "code",
   "execution_count": null,
   "metadata": {},
   "outputs": [],
   "source": []
  }
 ],
 "metadata": {
  "kernelspec": {
   "display_name": "Python 3",
   "language": "python",
   "name": "python3"
  },
  "language_info": {
   "codemirror_mode": {
    "name": "ipython",
    "version": 3
   },
   "file_extension": ".py",
   "mimetype": "text/x-python",
   "name": "python",
   "nbconvert_exporter": "python",
   "pygments_lexer": "ipython3",
   "version": "3.6.4"
  }
 },
 "nbformat": 4,
 "nbformat_minor": 2
}
